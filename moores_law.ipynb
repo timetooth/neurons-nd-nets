{
  "nbformat": 4,
  "nbformat_minor": 0,
  "metadata": {
    "colab": {
      "provenance": []
    },
    "kernelspec": {
      "name": "python3",
      "display_name": "Python 3"
    },
    "language_info": {
      "name": "python"
    }
  },
  "cells": [
    {
      "cell_type": "code",
      "execution_count": 3,
      "metadata": {
        "id": "2KInGswlajNv"
      },
      "outputs": [],
      "source": [
        "import tensorflow as tf\n",
        "import numpy as np\n",
        "import pandas as pd\n",
        "import os\n",
        "import matplotlib.pyplot as plt"
      ]
    },
    {
      "cell_type": "code",
      "source": [
        "!wget https://raw.githubusercontent.com/lazyprogrammer/machine_learning_examples/master/tf2.0/moore.csv"
      ],
      "metadata": {
        "colab": {
          "base_uri": "https://localhost:8080/"
        },
        "id": "KnHNhMJGauZ4",
        "outputId": "c4be8e88-fe64-4921-f59a-ad3c6c53b529"
      },
      "execution_count": 4,
      "outputs": [
        {
          "output_type": "stream",
          "name": "stdout",
          "text": [
            "--2023-11-25 16:14:17--  https://raw.githubusercontent.com/lazyprogrammer/machine_learning_examples/master/tf2.0/moore.csv\n",
            "Resolving raw.githubusercontent.com (raw.githubusercontent.com)... 185.199.108.133, 185.199.109.133, 185.199.110.133, ...\n",
            "Connecting to raw.githubusercontent.com (raw.githubusercontent.com)|185.199.108.133|:443... connected.\n",
            "HTTP request sent, awaiting response... 200 OK\n",
            "Length: 2302 (2.2K) [text/plain]\n",
            "Saving to: ‘moore.csv’\n",
            "\n",
            "\rmoore.csv             0%[                    ]       0  --.-KB/s               \rmoore.csv           100%[===================>]   2.25K  --.-KB/s    in 0s      \n",
            "\n",
            "2023-11-25 16:14:17 (41.1 MB/s) - ‘moore.csv’ saved [2302/2302]\n",
            "\n"
          ]
        }
      ]
    },
    {
      "cell_type": "code",
      "source": [
        "!ls"
      ],
      "metadata": {
        "colab": {
          "base_uri": "https://localhost:8080/"
        },
        "id": "8Rj18v0Ea_em",
        "outputId": "4451794d-9bc9-449c-9497-f3fe2d5ab3fd"
      },
      "execution_count": 5,
      "outputs": [
        {
          "output_type": "stream",
          "name": "stdout",
          "text": [
            "moore.csv  sample_data\n"
          ]
        }
      ]
    },
    {
      "cell_type": "code",
      "source": [
        "data = pd.read_csv('moore.csv',header = None)\n",
        "print(data.head(5))\n",
        "data = data.to_numpy()\n",
        "# this is 162 by 2 first column gives year and seconf gives no. of transistors on a chip that year"
      ],
      "metadata": {
        "colab": {
          "base_uri": "https://localhost:8080/"
        },
        "id": "sNhE0w-BbCBN",
        "outputId": "3756496d-a8f0-43f0-ad59-e684ecb9f519"
      },
      "execution_count": 6,
      "outputs": [
        {
          "output_type": "stream",
          "name": "stdout",
          "text": [
            "      0     1\n",
            "0  1971  2300\n",
            "1  1972  3500\n",
            "2  1973  2500\n",
            "3  1973  2500\n",
            "4  1974  4100\n"
          ]
        }
      ]
    },
    {
      "cell_type": "code",
      "source": [
        "print('printing data as it is')\n",
        "print(data[0:5,:])\n",
        "print('\\nprinting x')\n",
        "x = data[:,0]\n",
        "print(x[0:5])\n",
        "x = x.reshape(-1,1)  # -1 is like a wild card tell u to put put what ever keeps coming\n",
        "# all the libraries expect data in a format such that  [ [] , [] , [] ] - just one array of featurs inside of the array contain sub arrays with each\n",
        "# sub array containg a single row of features\n",
        "print('\\nprinting after RESHAPING x')\n",
        "print(x[0:5])"
      ],
      "metadata": {
        "colab": {
          "base_uri": "https://localhost:8080/"
        },
        "id": "dlQt_kwhbcjo",
        "outputId": "9a6fdb10-5ecb-46de-8579-c6930c841526"
      },
      "execution_count": 7,
      "outputs": [
        {
          "output_type": "stream",
          "name": "stdout",
          "text": [
            "printing data as it is\n",
            "[[1971 2300]\n",
            " [1972 3500]\n",
            " [1973 2500]\n",
            " [1973 2500]\n",
            " [1974 4100]]\n",
            "\n",
            "printing x\n",
            "[1971 1972 1973 1973 1974]\n",
            "\n",
            "printing after RESHAPING x\n",
            "[[1971]\n",
            " [1972]\n",
            " [1973]\n",
            " [1973]\n",
            " [1974]]\n"
          ]
        }
      ]
    },
    {
      "cell_type": "code",
      "source": [
        "y = data[:,1]"
      ],
      "metadata": {
        "id": "7dIS5gu9chH3"
      },
      "execution_count": 8,
      "outputs": []
    },
    {
      "cell_type": "code",
      "source": [
        "plt.scatter(x,y)\n",
        "plt.xlabel(\"Year\")\n",
        "plt.ylabel(\"# transistors (power of 10)\")"
      ],
      "metadata": {
        "colab": {
          "base_uri": "https://localhost:8080/",
          "height": 483
        },
        "id": "_9vVT9HeeHsu",
        "outputId": "8968057f-1069-4415-cd62-e38d8e6334fd"
      },
      "execution_count": 9,
      "outputs": [
        {
          "output_type": "execute_result",
          "data": {
            "text/plain": [
              "Text(0, 0.5, '# transistors (power of 10)')"
            ]
          },
          "metadata": {},
          "execution_count": 9
        },
        {
          "output_type": "display_data",
          "data": {
            "text/plain": [
              "<Figure size 640x480 with 1 Axes>"
            ],
            "image/png": "[encoded data removed]"
          },
          "metadata": {}
        }
      ]
    },
    {
      "cell_type": "code",
      "source": [
        "y = np.log(y)\n",
        "plt.scatter(x,y)\n",
        "plt.xlabel(\"Year\")\n",
        "plt.ylabel(\"log of # transistors\")"
      ],
      "metadata": {
        "colab": {
          "base_uri": "https://localhost:8080/",
          "height": 467
        },
        "id": "NUgC0N-AeLyt",
        "outputId": "42698a12-5b7d-4099-a747-d995051d3869"
      },
      "execution_count": 10,
      "outputs": [
        {
          "output_type": "execute_result",
          "data": {
            "text/plain": [
              "Text(0, 0.5, 'log of # transistors')"
            ]
          },
          "metadata": {},
          "execution_count": 10
        },
        {
          "output_type": "display_data",
          "data": {
            "text/plain": [
              "<Figure size 640x480 with 1 Axes>"
            ],
            "image/png": "[encoded data removed]"
          },
          "metadata": {}
        }
      ]
    },
    {
      "cell_type": "code",
      "source": [
        "x = x - x.mean()"
      ],
      "metadata": {
        "id": "HM2kV-BxmcCj"
      },
      "execution_count": 11,
      "outputs": []
    },
    {
      "cell_type": "code",
      "source": [
        "model = tf.keras.models.Sequential([\n",
        "    tf.keras.layers.Input(shape = (1,)),\n",
        "    tf.keras.layers.Dense(1)\n",
        "])"
      ],
      "metadata": {
        "id": "qN7aS0PmnGoQ"
      },
      "execution_count": 12,
      "outputs": []
    },
    {
      "cell_type": "code",
      "source": [
        "model.compile(\n",
        "    optimizer = tf.keras.optimizers.SGD(0.001,0.9), # using custom optimizer because we didnt scale the data\n",
        "    loss = 'mse'\n",
        ")"
      ],
      "metadata": {
        "id": "eHRhhxdsnpa2"
      },
      "execution_count": 13,
      "outputs": []
    },
    {
      "cell_type": "code",
      "source": [
        "def schedule(epoch,lr):\n",
        "  if(epoch<50):\n",
        "    return 0.0001\n",
        "  return 0.001\n",
        "\n",
        "scheduler = tf.keras.callbacks.LearningRateScheduler(schedule)"
      ],
      "metadata": {
        "id": "RlYKdaCNpddL"
      },
      "execution_count": 14,
      "outputs": []
    },
    {
      "cell_type": "code",
      "source": [
        "type(scheduler)"
      ],
      "metadata": {
        "colab": {
          "base_uri": "https://localhost:8080/"
        },
        "id": "CYTcZ2m10S43",
        "outputId": "b40b718c-09f3-4fb3-9daa-353be4f7eef5"
      },
      "execution_count": 15,
      "outputs": [
        {
          "output_type": "execute_result",
          "data": {
            "text/plain": [
              "keras.src.callbacks.LearningRateScheduler"
            ]
          },
          "metadata": {},
          "execution_count": 15
        }
      ]
    },
    {
      "cell_type": "code",
      "source": [
        "r = model.fit(x,y, epochs = 200 , callbacks = [scheduler])"
      ],
      "metadata": {
        "colab": {
          "base_uri": "https://localhost:8080/"
        },
        "id": "xQJN3eFt0hAT",
        "outputId": "8774d632-9a1b-4a0f-a22b-e4ee201d3a38"
      },
      "execution_count": 16,
      "outputs": [
        {
          "output_type": "stream",
          "name": "stdout",
          "text": [
            "Epoch 1/200\n",
            "6/6 [==============================] - 0s 2ms/step - loss: 316.7928 - lr: 1.0000e-04\n",
            "Epoch 2/200\n",
            "6/6 [==============================] - 0s 2ms/step - loss: 315.8691 - lr: 1.0000e-04\n",
            "Epoch 3/200\n",
            "6/6 [==============================] - 0s 2ms/step - loss: 312.0966 - lr: 1.0000e-04\n",
            "Epoch 4/200\n",
            "6/6 [==============================] - 0s 2ms/step - loss: 323.3080 - lr: 1.0000e-04\n",
            "Epoch 5/200\n",
            "6/6 [==============================] - 0s 3ms/step - loss: 298.9632 - lr: 1.0000e-04\n",
            "Epoch 6/200\n",
            "6/6 [==============================] - 0s 2ms/step - loss: 290.0825 - lr: 1.0000e-04\n",
            "Epoch 7/200\n",
            "6/6 [==============================] - 0s 2ms/step - loss: 284.0005 - lr: 1.0000e-04\n",
            "Epoch 8/200\n",
            "6/6 [==============================] - 0s 2ms/step - loss: 273.7284 - lr: 1.0000e-04\n",
            "Epoch 9/200\n",
            "6/6 [==============================] - 0s 2ms/step - loss: 271.0089 - lr: 1.0000e-04\n",
            "Epoch 10/200\n",
            "6/6 [==============================] - 0s 2ms/step - loss: 266.2553 - lr: 1.0000e-04\n",
            "Epoch 11/200\n",
            "6/6 [==============================] - 0s 2ms/step - loss: 260.2095 - lr: 1.0000e-04\n",
            "Epoch 12/200\n",
            "6/6 [==============================] - 0s 2ms/step - loss: 252.6907 - lr: 1.0000e-04\n",
            "Epoch 13/200\n",
            "6/6 [==============================] - 0s 2ms/step - loss: 244.5451 - lr: 1.0000e-04\n",
            "Epoch 14/200\n",
            "6/6 [==============================] - 0s 2ms/step - loss: 239.8176 - lr: 1.0000e-04\n",
            "Epoch 15/200\n",
            "6/6 [==============================] - 0s 2ms/step - loss: 238.0453 - lr: 1.0000e-04\n",
            "Epoch 16/200\n",
            "6/6 [==============================] - 0s 2ms/step - loss: 245.3831 - lr: 1.0000e-04\n",
            "Epoch 17/200\n",
            "6/6 [==============================] - 0s 2ms/step - loss: 228.0520 - lr: 1.0000e-04\n",
            "Epoch 18/200\n",
            "6/6 [==============================] - 0s 2ms/step - loss: 219.3533 - lr: 1.0000e-04\n",
            "Epoch 19/200\n",
            "6/6 [==============================] - 0s 3ms/step - loss: 217.6615 - lr: 1.0000e-04\n",
            "Epoch 20/200\n",
            "6/6 [==============================] - 0s 2ms/step - loss: 205.1521 - lr: 1.0000e-04\n",
            "Epoch 21/200\n",
            "6/6 [==============================] - 0s 2ms/step - loss: 201.9827 - lr: 1.0000e-04\n",
            "Epoch 22/200\n",
            "6/6 [==============================] - 0s 2ms/step - loss: 198.9009 - lr: 1.0000e-04\n",
            "Epoch 23/200\n",
            "6/6 [==============================] - 0s 2ms/step - loss: 190.6484 - lr: 1.0000e-04\n",
            "Epoch 24/200\n",
            "6/6 [==============================] - 0s 2ms/step - loss: 186.0912 - lr: 1.0000e-04\n",
            "Epoch 25/200\n",
            "6/6 [==============================] - 0s 2ms/step - loss: 182.6249 - lr: 1.0000e-04\n",
            "Epoch 26/200\n",
            "6/6 [==============================] - 0s 2ms/step - loss: 178.8044 - lr: 1.0000e-04\n",
            "Epoch 27/200\n",
            "6/6 [==============================] - 0s 2ms/step - loss: 172.9490 - lr: 1.0000e-04\n",
            "Epoch 28/200\n",
            "6/6 [==============================] - 0s 2ms/step - loss: 171.0234 - lr: 1.0000e-04\n",
            "Epoch 29/200\n",
            "6/6 [==============================] - 0s 2ms/step - loss: 174.1913 - lr: 1.0000e-04\n",
            "Epoch 30/200\n",
            "6/6 [==============================] - 0s 2ms/step - loss: 167.2869 - lr: 1.0000e-04\n",
            "Epoch 31/200\n",
            "6/6 [==============================] - 0s 2ms/step - loss: 159.4127 - lr: 1.0000e-04\n",
            "Epoch 32/200\n",
            "6/6 [==============================] - 0s 2ms/step - loss: 155.2731 - lr: 1.0000e-04\n",
            "Epoch 33/200\n",
            "6/6 [==============================] - 0s 2ms/step - loss: 158.2385 - lr: 1.0000e-04\n",
            "Epoch 34/200\n",
            "6/6 [==============================] - 0s 2ms/step - loss: 148.3719 - lr: 1.0000e-04\n",
            "Epoch 35/200\n",
            "6/6 [==============================] - 0s 2ms/step - loss: 142.9771 - lr: 1.0000e-04\n",
            "Epoch 36/200\n",
            "6/6 [==============================] - 0s 4ms/step - loss: 139.6711 - lr: 1.0000e-04\n",
            "Epoch 37/200\n",
            "6/6 [==============================] - 0s 2ms/step - loss: 137.3116 - lr: 1.0000e-04\n",
            "Epoch 38/200\n",
            "6/6 [==============================] - 0s 2ms/step - loss: 137.9815 - lr: 1.0000e-04\n",
            "Epoch 39/200\n",
            "6/6 [==============================] - 0s 1ms/step - loss: 134.5310 - lr: 1.0000e-04\n",
            "Epoch 40/200\n",
            "6/6 [==============================] - 0s 3ms/step - loss: 127.6762 - lr: 1.0000e-04\n",
            "Epoch 41/200\n",
            "6/6 [==============================] - 0s 2ms/step - loss: 124.7169 - lr: 1.0000e-04\n",
            "Epoch 42/200\n",
            "6/6 [==============================] - 0s 2ms/step - loss: 125.6705 - lr: 1.0000e-04\n",
            "Epoch 43/200\n",
            "6/6 [==============================] - 0s 2ms/step - loss: 118.0978 - lr: 1.0000e-04\n",
            "Epoch 44/200\n",
            "6/6 [==============================] - 0s 2ms/step - loss: 116.2048 - lr: 1.0000e-04\n",
            "Epoch 45/200\n",
            "6/6 [==============================] - 0s 2ms/step - loss: 116.5126 - lr: 1.0000e-04\n",
            "Epoch 46/200\n",
            "6/6 [==============================] - 0s 2ms/step - loss: 112.8721 - lr: 1.0000e-04\n",
            "Epoch 47/200\n",
            "6/6 [==============================] - 0s 2ms/step - loss: 110.7973 - lr: 1.0000e-04\n",
            "Epoch 48/200\n",
            "6/6 [==============================] - 0s 2ms/step - loss: 105.7092 - lr: 1.0000e-04\n",
            "Epoch 49/200\n",
            "6/6 [==============================] - 0s 2ms/step - loss: 102.4110 - lr: 1.0000e-04\n",
            "Epoch 50/200\n",
            "6/6 [==============================] - 0s 2ms/step - loss: 104.1874 - lr: 1.0000e-04\n",
            "Epoch 51/200\n",
            "6/6 [==============================] - 0s 2ms/step - loss: 102.4406 - lr: 0.0010\n",
            "Epoch 52/200\n",
            "6/6 [==============================] - 0s 2ms/step - loss: 87.1411 - lr: 0.0010\n",
            "Epoch 53/200\n",
            "6/6 [==============================] - 0s 2ms/step - loss: 73.8124 - lr: 0.0010\n",
            "Epoch 54/200\n",
            "6/6 [==============================] - 0s 2ms/step - loss: 84.7421 - lr: 0.0010\n",
            "Epoch 55/200\n",
            "6/6 [==============================] - 0s 2ms/step - loss: 69.2424 - lr: 0.0010\n",
            "Epoch 56/200\n",
            "6/6 [==============================] - 0s 2ms/step - loss: 56.7008 - lr: 0.0010\n",
            "Epoch 57/200\n",
            "6/6 [==============================] - 0s 2ms/step - loss: 71.0430 - lr: 0.0010\n",
            "Epoch 58/200\n",
            "6/6 [==============================] - 0s 3ms/step - loss: 38.8162 - lr: 0.0010\n",
            "Epoch 59/200\n",
            "6/6 [==============================] - 0s 2ms/step - loss: 28.4824 - lr: 0.0010\n",
            "Epoch 60/200\n",
            "6/6 [==============================] - 0s 2ms/step - loss: 27.9387 - lr: 0.0010\n",
            "Epoch 61/200\n",
            "6/6 [==============================] - 0s 2ms/step - loss: 14.6662 - lr: 0.0010\n",
            "Epoch 62/200\n",
            "6/6 [==============================] - 0s 2ms/step - loss: 7.8257 - lr: 0.0010\n",
            "Epoch 63/200\n",
            "6/6 [==============================] - 0s 2ms/step - loss: 6.2763 - lr: 0.0010\n",
            "Epoch 64/200\n",
            "6/6 [==============================] - 0s 2ms/step - loss: 4.4053 - lr: 0.0010\n",
            "Epoch 65/200\n",
            "6/6 [==============================] - 0s 2ms/step - loss: 3.2660 - lr: 0.0010\n",
            "Epoch 66/200\n",
            "6/6 [==============================] - 0s 2ms/step - loss: 2.6729 - lr: 0.0010\n",
            "Epoch 67/200\n",
            "6/6 [==============================] - 0s 2ms/step - loss: 2.2596 - lr: 0.0010\n",
            "Epoch 68/200\n",
            "6/6 [==============================] - 0s 2ms/step - loss: 1.8428 - lr: 0.0010\n",
            "Epoch 69/200\n",
            "6/6 [==============================] - 0s 2ms/step - loss: 1.8647 - lr: 0.0010\n",
            "Epoch 70/200\n",
            "6/6 [==============================] - 0s 2ms/step - loss: 2.2119 - lr: 0.0010\n",
            "Epoch 71/200\n",
            "6/6 [==============================] - 0s 2ms/step - loss: 1.4839 - lr: 0.0010\n",
            "Epoch 72/200\n",
            "6/6 [==============================] - 0s 2ms/step - loss: 1.5205 - lr: 0.0010\n",
            "Epoch 73/200\n",
            "6/6 [==============================] - 0s 2ms/step - loss: 1.3934 - lr: 0.0010\n",
            "Epoch 74/200\n",
            "6/6 [==============================] - 0s 2ms/step - loss: 1.0611 - lr: 0.0010\n",
            "Epoch 75/200\n",
            "6/6 [==============================] - 0s 2ms/step - loss: 1.0096 - lr: 0.0010\n",
            "Epoch 76/200\n",
            "6/6 [==============================] - 0s 2ms/step - loss: 0.9547 - lr: 0.0010\n",
            "Epoch 77/200\n",
            "6/6 [==============================] - 0s 2ms/step - loss: 0.9439 - lr: 0.0010\n",
            "Epoch 78/200\n",
            "6/6 [==============================] - 0s 2ms/step - loss: 1.2233 - lr: 0.0010\n",
            "Epoch 79/200\n",
            "6/6 [==============================] - 0s 2ms/step - loss: 1.3095 - lr: 0.0010\n",
            "Epoch 80/200\n",
            "6/6 [==============================] - 0s 2ms/step - loss: 1.0873 - lr: 0.0010\n",
            "Epoch 81/200\n",
            "6/6 [==============================] - 0s 2ms/step - loss: 1.0577 - lr: 0.0010\n",
            "Epoch 82/200\n",
            "6/6 [==============================] - 0s 2ms/step - loss: 1.1123 - lr: 0.0010\n",
            "Epoch 83/200\n",
            "6/6 [==============================] - 0s 2ms/step - loss: 1.0472 - lr: 0.0010\n",
            "Epoch 84/200\n",
            "6/6 [==============================] - 0s 2ms/step - loss: 1.0157 - lr: 0.0010\n",
            "Epoch 85/200\n",
            "6/6 [==============================] - 0s 3ms/step - loss: 1.0187 - lr: 0.0010\n",
            "Epoch 86/200\n",
            "6/6 [==============================] - 0s 2ms/step - loss: 1.0143 - lr: 0.0010\n",
            "Epoch 87/200\n",
            "6/6 [==============================] - 0s 2ms/step - loss: 1.1084 - lr: 0.0010\n",
            "Epoch 88/200\n",
            "6/6 [==============================] - 0s 2ms/step - loss: 1.1826 - lr: 0.0010\n",
            "Epoch 89/200\n",
            "6/6 [==============================] - 0s 2ms/step - loss: 1.2482 - lr: 0.0010\n",
            "Epoch 90/200\n",
            "6/6 [==============================] - 0s 2ms/step - loss: 1.0115 - lr: 0.0010\n",
            "Epoch 91/200\n",
            "6/6 [==============================] - 0s 2ms/step - loss: 0.9607 - lr: 0.0010\n",
            "Epoch 92/200\n",
            "6/6 [==============================] - 0s 2ms/step - loss: 0.9166 - lr: 0.0010\n",
            "Epoch 93/200\n",
            "6/6 [==============================] - 0s 2ms/step - loss: 0.9596 - lr: 0.0010\n",
            "Epoch 94/200\n",
            "6/6 [==============================] - 0s 3ms/step - loss: 0.9041 - lr: 0.0010\n",
            "Epoch 95/200\n",
            "6/6 [==============================] - 0s 2ms/step - loss: 0.8926 - lr: 0.0010\n",
            "Epoch 96/200\n",
            "6/6 [==============================] - 0s 2ms/step - loss: 1.1847 - lr: 0.0010\n",
            "Epoch 97/200\n",
            "6/6 [==============================] - 0s 2ms/step - loss: 1.2320 - lr: 0.0010\n",
            "Epoch 98/200\n",
            "6/6 [==============================] - 0s 2ms/step - loss: 1.1384 - lr: 0.0010\n",
            "Epoch 99/200\n",
            "6/6 [==============================] - 0s 2ms/step - loss: 1.0183 - lr: 0.0010\n",
            "Epoch 100/200\n",
            "6/6 [==============================] - 0s 2ms/step - loss: 0.9895 - lr: 0.0010\n",
            "Epoch 101/200\n",
            "6/6 [==============================] - 0s 2ms/step - loss: 1.1439 - lr: 0.0010\n",
            "Epoch 102/200\n",
            "6/6 [==============================] - 0s 2ms/step - loss: 1.0640 - lr: 0.0010\n",
            "Epoch 103/200\n",
            "6/6 [==============================] - 0s 2ms/step - loss: 1.2281 - lr: 0.0010\n",
            "Epoch 104/200\n",
            "6/6 [==============================] - 0s 2ms/step - loss: 1.0687 - lr: 0.0010\n",
            "Epoch 105/200\n",
            "6/6 [==============================] - 0s 2ms/step - loss: 1.1396 - lr: 0.0010\n",
            "Epoch 106/200\n",
            "6/6 [==============================] - 0s 2ms/step - loss: 1.2235 - lr: 0.0010\n",
            "Epoch 107/200\n",
            "6/6 [==============================] - 0s 2ms/step - loss: 1.4970 - lr: 0.0010\n",
            "Epoch 108/200\n",
            "6/6 [==============================] - 0s 2ms/step - loss: 1.6996 - lr: 0.0010\n",
            "Epoch 109/200\n",
            "6/6 [==============================] - 0s 2ms/step - loss: 1.6082 - lr: 0.0010\n",
            "Epoch 110/200\n",
            "6/6 [==============================] - 0s 2ms/step - loss: 1.1235 - lr: 0.0010\n",
            "Epoch 111/200\n",
            "6/6 [==============================] - 0s 2ms/step - loss: 1.0637 - lr: 0.0010\n",
            "Epoch 112/200\n",
            "6/6 [==============================] - 0s 2ms/step - loss: 1.0615 - lr: 0.0010\n",
            "Epoch 113/200\n",
            "6/6 [==============================] - 0s 2ms/step - loss: 0.8910 - lr: 0.0010\n",
            "Epoch 114/200\n",
            "6/6 [==============================] - 0s 2ms/step - loss: 0.8862 - lr: 0.0010\n",
            "Epoch 115/200\n",
            "6/6 [==============================] - 0s 3ms/step - loss: 0.8794 - lr: 0.0010\n",
            "Epoch 116/200\n",
            "6/6 [==============================] - 0s 2ms/step - loss: 0.9047 - lr: 0.0010\n",
            "Epoch 117/200\n",
            "6/6 [==============================] - 0s 2ms/step - loss: 0.8664 - lr: 0.0010\n",
            "Epoch 118/200\n",
            "6/6 [==============================] - 0s 2ms/step - loss: 0.9635 - lr: 0.0010\n",
            "Epoch 119/200\n",
            "6/6 [==============================] - 0s 2ms/step - loss: 0.9803 - lr: 0.0010\n",
            "Epoch 120/200\n",
            "6/6 [==============================] - 0s 2ms/step - loss: 1.1518 - lr: 0.0010\n",
            "Epoch 121/200\n",
            "6/6 [==============================] - 0s 2ms/step - loss: 1.0305 - lr: 0.0010\n",
            "Epoch 122/200\n",
            "6/6 [==============================] - 0s 2ms/step - loss: 0.9623 - lr: 0.0010\n",
            "Epoch 123/200\n",
            "6/6 [==============================] - 0s 2ms/step - loss: 0.9544 - lr: 0.0010\n",
            "Epoch 124/200\n",
            "6/6 [==============================] - 0s 2ms/step - loss: 0.8950 - lr: 0.0010\n",
            "Epoch 125/200\n",
            "6/6 [==============================] - 0s 2ms/step - loss: 0.8949 - lr: 0.0010\n",
            "Epoch 126/200\n",
            "6/6 [==============================] - 0s 2ms/step - loss: 0.8773 - lr: 0.0010\n",
            "Epoch 127/200\n",
            "6/6 [==============================] - 0s 2ms/step - loss: 0.9936 - lr: 0.0010\n",
            "Epoch 128/200\n",
            "6/6 [==============================] - 0s 2ms/step - loss: 0.9142 - lr: 0.0010\n",
            "Epoch 129/200\n",
            "6/6 [==============================] - 0s 2ms/step - loss: 0.8816 - lr: 0.0010\n",
            "Epoch 130/200\n",
            "6/6 [==============================] - 0s 2ms/step - loss: 0.9290 - lr: 0.0010\n",
            "Epoch 131/200\n",
            "6/6 [==============================] - 0s 2ms/step - loss: 0.9181 - lr: 0.0010\n",
            "Epoch 132/200\n",
            "6/6 [==============================] - 0s 2ms/step - loss: 0.9685 - lr: 0.0010\n",
            "Epoch 133/200\n",
            "6/6 [==============================] - 0s 2ms/step - loss: 1.0022 - lr: 0.0010\n",
            "Epoch 134/200\n",
            "6/6 [==============================] - 0s 2ms/step - loss: 0.8737 - lr: 0.0010\n",
            "Epoch 135/200\n",
            "6/6 [==============================] - 0s 2ms/step - loss: 1.3155 - lr: 0.0010\n",
            "Epoch 136/200\n",
            "6/6 [==============================] - 0s 2ms/step - loss: 1.1797 - lr: 0.0010\n",
            "Epoch 137/200\n",
            "6/6 [==============================] - 0s 2ms/step - loss: 1.1940 - lr: 0.0010\n",
            "Epoch 138/200\n",
            "6/6 [==============================] - 0s 2ms/step - loss: 1.1530 - lr: 0.0010\n",
            "Epoch 139/200\n",
            "6/6 [==============================] - 0s 2ms/step - loss: 1.1137 - lr: 0.0010\n",
            "Epoch 140/200\n",
            "6/6 [==============================] - 0s 2ms/step - loss: 1.0489 - lr: 0.0010\n",
            "Epoch 141/200\n",
            "6/6 [==============================] - 0s 2ms/step - loss: 0.9227 - lr: 0.0010\n",
            "Epoch 142/200\n",
            "6/6 [==============================] - 0s 2ms/step - loss: 0.9378 - lr: 0.0010\n",
            "Epoch 143/200\n",
            "6/6 [==============================] - 0s 2ms/step - loss: 1.0373 - lr: 0.0010\n",
            "Epoch 144/200\n",
            "6/6 [==============================] - 0s 2ms/step - loss: 0.9415 - lr: 0.0010\n",
            "Epoch 145/200\n",
            "6/6 [==============================] - 0s 2ms/step - loss: 1.2287 - lr: 0.0010\n",
            "Epoch 146/200\n",
            "6/6 [==============================] - 0s 2ms/step - loss: 1.2986 - lr: 0.0010\n",
            "Epoch 147/200\n",
            "6/6 [==============================] - 0s 2ms/step - loss: 1.0626 - lr: 0.0010\n",
            "Epoch 148/200\n",
            "6/6 [==============================] - 0s 2ms/step - loss: 1.0302 - lr: 0.0010\n",
            "Epoch 149/200\n",
            "6/6 [==============================] - 0s 2ms/step - loss: 0.8957 - lr: 0.0010\n",
            "Epoch 150/200\n",
            "6/6 [==============================] - 0s 3ms/step - loss: 0.9361 - lr: 0.0010\n",
            "Epoch 151/200\n",
            "6/6 [==============================] - 0s 2ms/step - loss: 1.0237 - lr: 0.0010\n",
            "Epoch 152/200\n",
            "6/6 [==============================] - 0s 3ms/step - loss: 1.4535 - lr: 0.0010\n",
            "Epoch 153/200\n",
            "6/6 [==============================] - 0s 2ms/step - loss: 1.8409 - lr: 0.0010\n",
            "Epoch 154/200\n",
            "6/6 [==============================] - 0s 2ms/step - loss: 1.7815 - lr: 0.0010\n",
            "Epoch 155/200\n",
            "6/6 [==============================] - 0s 2ms/step - loss: 1.9057 - lr: 0.0010\n",
            "Epoch 156/200\n",
            "6/6 [==============================] - 0s 2ms/step - loss: 1.3982 - lr: 0.0010\n",
            "Epoch 157/200\n",
            "6/6 [==============================] - 0s 2ms/step - loss: 1.1177 - lr: 0.0010\n",
            "Epoch 158/200\n",
            "6/6 [==============================] - 0s 2ms/step - loss: 1.0461 - lr: 0.0010\n",
            "Epoch 159/200\n",
            "6/6 [==============================] - 0s 2ms/step - loss: 0.9654 - lr: 0.0010\n",
            "Epoch 160/200\n",
            "6/6 [==============================] - 0s 3ms/step - loss: 0.8973 - lr: 0.0010\n",
            "Epoch 161/200\n",
            "6/6 [==============================] - 0s 2ms/step - loss: 0.9464 - lr: 0.0010\n",
            "Epoch 162/200\n",
            "6/6 [==============================] - 0s 2ms/step - loss: 0.9250 - lr: 0.0010\n",
            "Epoch 163/200\n",
            "6/6 [==============================] - 0s 2ms/step - loss: 1.2389 - lr: 0.0010\n",
            "Epoch 164/200\n",
            "6/6 [==============================] - 0s 2ms/step - loss: 1.0121 - lr: 0.0010\n",
            "Epoch 165/200\n",
            "6/6 [==============================] - 0s 2ms/step - loss: 1.0070 - lr: 0.0010\n",
            "Epoch 166/200\n",
            "6/6 [==============================] - 0s 2ms/step - loss: 0.9859 - lr: 0.0010\n",
            "Epoch 167/200\n",
            "6/6 [==============================] - 0s 2ms/step - loss: 0.8981 - lr: 0.0010\n",
            "Epoch 168/200\n",
            "6/6 [==============================] - 0s 2ms/step - loss: 0.9819 - lr: 0.0010\n",
            "Epoch 169/200\n",
            "6/6 [==============================] - 0s 2ms/step - loss: 1.2109 - lr: 0.0010\n",
            "Epoch 170/200\n",
            "6/6 [==============================] - 0s 2ms/step - loss: 1.0593 - lr: 0.0010\n",
            "Epoch 171/200\n",
            "6/6 [==============================] - 0s 2ms/step - loss: 1.0766 - lr: 0.0010\n",
            "Epoch 172/200\n",
            "6/6 [==============================] - 0s 2ms/step - loss: 0.9757 - lr: 0.0010\n",
            "Epoch 173/200\n",
            "6/6 [==============================] - 0s 2ms/step - loss: 1.8257 - lr: 0.0010\n",
            "Epoch 174/200\n",
            "6/6 [==============================] - 0s 2ms/step - loss: 1.4111 - lr: 0.0010\n",
            "Epoch 175/200\n",
            "6/6 [==============================] - 0s 3ms/step - loss: 1.2568 - lr: 0.0010\n",
            "Epoch 176/200\n",
            "6/6 [==============================] - 0s 2ms/step - loss: 0.9518 - lr: 0.0010\n",
            "Epoch 177/200\n",
            "6/6 [==============================] - 0s 2ms/step - loss: 0.9428 - lr: 0.0010\n",
            "Epoch 178/200\n",
            "6/6 [==============================] - 0s 2ms/step - loss: 1.1063 - lr: 0.0010\n",
            "Epoch 179/200\n",
            "6/6 [==============================] - 0s 2ms/step - loss: 0.9067 - lr: 0.0010\n",
            "Epoch 180/200\n",
            "6/6 [==============================] - 0s 2ms/step - loss: 0.9539 - lr: 0.0010\n",
            "Epoch 181/200\n",
            "6/6 [==============================] - 0s 2ms/step - loss: 0.9649 - lr: 0.0010\n",
            "Epoch 182/200\n",
            "6/6 [==============================] - 0s 2ms/step - loss: 0.9146 - lr: 0.0010\n",
            "Epoch 183/200\n",
            "6/6 [==============================] - 0s 2ms/step - loss: 1.0271 - lr: 0.0010\n",
            "Epoch 184/200\n",
            "6/6 [==============================] - 0s 2ms/step - loss: 0.9017 - lr: 0.0010\n",
            "Epoch 185/200\n",
            "6/6 [==============================] - 0s 2ms/step - loss: 0.8702 - lr: 0.0010\n",
            "Epoch 186/200\n",
            "6/6 [==============================] - 0s 2ms/step - loss: 1.1217 - lr: 0.0010\n",
            "Epoch 187/200\n",
            "6/6 [==============================] - 0s 2ms/step - loss: 0.9401 - lr: 0.0010\n",
            "Epoch 188/200\n",
            "6/6 [==============================] - 0s 2ms/step - loss: 0.9123 - lr: 0.0010\n",
            "Epoch 189/200\n",
            "6/6 [==============================] - 0s 2ms/step - loss: 0.8853 - lr: 0.0010\n",
            "Epoch 190/200\n",
            "6/6 [==============================] - 0s 2ms/step - loss: 0.8990 - lr: 0.0010\n",
            "Epoch 191/200\n",
            "6/6 [==============================] - 0s 2ms/step - loss: 0.8702 - lr: 0.0010\n",
            "Epoch 192/200\n",
            "6/6 [==============================] - 0s 2ms/step - loss: 1.0036 - lr: 0.0010\n",
            "Epoch 193/200\n",
            "6/6 [==============================] - 0s 2ms/step - loss: 0.9323 - lr: 0.0010\n",
            "Epoch 194/200\n",
            "6/6 [==============================] - 0s 2ms/step - loss: 0.9518 - lr: 0.0010\n",
            "Epoch 195/200\n",
            "6/6 [==============================] - 0s 2ms/step - loss: 0.9437 - lr: 0.0010\n",
            "Epoch 196/200\n",
            "6/6 [==============================] - 0s 2ms/step - loss: 2.3291 - lr: 0.0010\n",
            "Epoch 197/200\n",
            "6/6 [==============================] - 0s 2ms/step - loss: 3.5111 - lr: 0.0010\n",
            "Epoch 198/200\n",
            "6/6 [==============================] - 0s 2ms/step - loss: 2.2023 - lr: 0.0010\n",
            "Epoch 199/200\n",
            "6/6 [==============================] - 0s 2ms/step - loss: 1.9992 - lr: 0.0010\n",
            "Epoch 200/200\n",
            "6/6 [==============================] - 0s 2ms/step - loss: 1.6646 - lr: 0.0010\n"
          ]
        }
      ]
    },
    {
      "cell_type": "code",
      "source": [
        "loss = model.evaluate(x,y)\n",
        "print('--------------------------------------\\nloss on training data = ',loss)"
      ],
      "metadata": {
        "colab": {
          "base_uri": "https://localhost:8080/"
        },
        "id": "NwaSRzrI2JPU",
        "outputId": "b6475405-738e-460a-bf48-bf3f4fa16fd5"
      },
      "execution_count": 19,
      "outputs": [
        {
          "output_type": "stream",
          "name": "stdout",
          "text": [
            "6/6 [==============================] - 0s 2ms/step - loss: 1.1520\n",
            "--------------------------------------\n",
            "loss on training data =  1.1520018577575684\n"
          ]
        }
      ]
    },
    {
      "cell_type": "code",
      "source": [
        "plt.plot(r.history['loss'])\n",
        "str = \"Loss , final loss = \" + str(loss)\n",
        "plt.title(str)"
      ],
      "metadata": {
        "colab": {
          "base_uri": "https://localhost:8080/",
          "height": 470
        },
        "id": "DLsWjOV9QaSe",
        "outputId": "e14b9437-d5a1-4cf6-d4e6-1eabb9e8fc64"
      },
      "execution_count": 25,
      "outputs": [
        {
          "output_type": "execute_result",
          "data": {
            "text/plain": [
              "Text(0.5, 1.0, 'Loss , final loss = 1.1520018577575684')"
            ]
          },
          "metadata": {},
          "execution_count": 25
        },
        {
          "output_type": "display_data",
          "data": {
            "text/plain": [
              "<Figure size 640x480 with 1 Axes>"
            ],
            "image/png": "[encoded data removed]"
          },
          "metadata": {}
        }
      ]
    },
    {
      "cell_type": "code",
      "source": [
        "model.save(\"mooresLaw.h5\")"
      ],
      "metadata": {
        "colab": {
          "base_uri": "https://localhost:8080/"
        },
        "id": "HroL8p8JRKvA",
        "outputId": "97f08349-f55a-45f6-e519-bfda4a8ba670"
      },
      "execution_count": 22,
      "outputs": [
        {
          "output_type": "stream",
          "name": "stderr",
          "text": [
            "/usr/local/lib/python3.10/dist-packages/keras/src/engine/training.py:3079: UserWarning: You are saving your model as an HDF5 file via `model.save()`. This file format is considered legacy. We recommend using instead the native Keras format, e.g. `model.save('my_model.keras')`.\n",
            "  saving_api.save_model(\n"
          ]
        }
      ]
    },
    {
      "cell_type": "code",
      "source": [
        "from google.colab import files\n",
        "files.download('/content/mooresLaw.h5')"
      ],
      "metadata": {
        "colab": {
          "base_uri": "https://localhost:8080/",
          "height": 17
        },
        "id": "_yw2cUUVRVej",
        "outputId": "54a831f1-d38b-4783-86b2-eab51143e6de"
      },
      "execution_count": 26,
      "outputs": [
        {
          "output_type": "display_data",
          "data": {
            "text/plain": [
              "<IPython.core.display.Javascript object>"
            ],
            "application/javascript": [
              "\n",
              "    async function download(id, filename, size) {\n",
              "      if (!google.colab.kernel.accessAllowed) {\n",
              "        return;\n",
              "      }\n",
              "      const div = document.createElement('div');\n",
              "      const label = document.createElement('label');\n",
              "      label.textContent = `Downloading \"${filename}\": `;\n",
              "      div.appendChild(label);\n",
              "      const progress = document.createElement('progress');\n",
              "      progress.max = size;\n",
              "      div.appendChild(progress);\n",
              "      document.body.appendChild(div);\n",
              "\n",
              "      const buffers = [];\n",
              "      let downloaded = 0;\n",
              "\n",
              "      const channel = await google.colab.kernel.comms.open(id);\n",
              "      // Send a message to notify the kernel that we're ready.\n",
              "      channel.send({})\n",
              "\n",
              "      for await (const message of channel.messages) {\n",
              "        // Send a message to notify the kernel that we're ready.\n",
              "        channel.send({})\n",
              "        if (message.buffers) {\n",
              "          for (const buffer of message.buffers) {\n",
              "            buffers.push(buffer);\n",
              "            downloaded += buffer.byteLength;\n",
              "            progress.value = downloaded;\n",
              "          }\n",
              "        }\n",
              "      }\n",
              "      const blob = new Blob(buffers, {type: 'application/binary'});\n",
              "      const a = document.createElement('a');\n",
              "      a.href = window.URL.createObjectURL(blob);\n",
              "      a.download = filename;\n",
              "      div.appendChild(a);\n",
              "      a.click();\n",
              "      div.remove();\n",
              "    }\n",
              "  "
            ]
          },
          "metadata": {}
        },
        {
          "output_type": "display_data",
          "data": {
            "text/plain": [
              "<IPython.core.display.Javascript object>"
            ],
            "application/javascript": [
              "download(\"download_ecd10ce1-8caa-46e9-b48c-18f5eff672a0\", \"mooresLaw.h5\", 17600)"
            ]
          },
          "metadata": {}
        }
      ]
    }
  ]
}