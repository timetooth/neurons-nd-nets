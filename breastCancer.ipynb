{
  "nbformat": 4,
  "nbformat_minor": 0,
  "metadata": {
    "colab": {
      "provenance": []
    },
    "kernelspec": {
      "name": "python3",
      "display_name": "Python 3"
    },
    "language_info": {
      "name": "python"
    }
  },
  "cells": [
    {
      "cell_type": "code",
      "execution_count": null,
      "metadata": {
        "id": "yLuMuthdIMK7"
      },
      "outputs": [],
      "source": [
        "import tensorflow as tf"
      ]
    },
    {
      "cell_type": "code",
      "source": [
        "from sklearn.datasets import load_breast_cancer"
      ],
      "metadata": {
        "id": "20njXwMabBMM"
      },
      "execution_count": null,
      "outputs": []
    },
    {
      "cell_type": "code",
      "source": [
        "dataset = load_breast_cancer()"
      ],
      "metadata": {
        "id": "vYn8mmE6bJ55"
      },
      "execution_count": null,
      "outputs": []
    },
    {
      "cell_type": "code",
      "source": [
        "dataset.keys()"
      ],
      "metadata": {
        "colab": {
          "base_uri": "https://localhost:8080/"
        },
        "id": "JwacWKm7dzv2",
        "outputId": "dd58e705-3be7-4e6c-d77f-72bc2a610ab8"
      },
      "execution_count": null,
      "outputs": [
        {
          "output_type": "execute_result",
          "data": {
            "text/plain": [
              "dict_keys(['data', 'target', 'frame', 'target_names', 'DESCR', 'feature_names', 'filename', 'data_module'])"
            ]
          },
          "metadata": {},
          "execution_count": 12
        }
      ]
    },
    {
      "cell_type": "code",
      "source": [
        "from sklearn.model_selection import train_test_split as tts"
      ],
      "metadata": {
        "id": "ImG23Pjie233"
      },
      "execution_count": null,
      "outputs": []
    },
    {
      "cell_type": "code",
      "source": [
        "x_train,x_test,y_train,y_test = tts(dataset.data , dataset.target , test_size = 0.25)"
      ],
      "metadata": {
        "id": "UCJcy_TLfknT"
      },
      "execution_count": null,
      "outputs": []
    },
    {
      "cell_type": "code",
      "source": [
        "from sklearn.preprocessing import StandardScaler # for data normalization"
      ],
      "metadata": {
        "id": "kKW3pP3Zf41K"
      },
      "execution_count": null,
      "outputs": []
    },
    {
      "cell_type": "code",
      "source": [
        "scaler = StandardScaler()\n",
        "x_train = scaler.fit_transform(x_train)\n",
        "x_test = scaler.transform(x_test)"
      ],
      "metadata": {
        "id": "WmupNJKSlNwo"
      },
      "execution_count": null,
      "outputs": []
    },
    {
      "cell_type": "code",
      "source": [
        "n,d = x_train.shape"
      ],
      "metadata": {
        "id": "8xw-QUA6qVJI"
      },
      "execution_count": null,
      "outputs": []
    },
    {
      "cell_type": "code",
      "source": [
        "model = tf.keras.models.Sequential([(tf.keras.layers.Input(shape = (d,))),\n",
        "                                    (tf.keras.layers.Dense(1,activation = 'sigmoid'))])"
      ],
      "metadata": {
        "id": "yZxWk8kJlqMX"
      },
      "execution_count": null,
      "outputs": []
    },
    {
      "cell_type": "code",
      "source": [
        "model.compile(optimizer = 'adam',\n",
        "              loss = 'binary_crossentropy',metrics=['accuracy'])"
      ],
      "metadata": {
        "id": "Ld8RbA2non4M"
      },
      "execution_count": null,
      "outputs": []
    },
    {
      "cell_type": "code",
      "source": [
        "model.summary"
      ],
      "metadata": {
        "colab": {
          "base_uri": "https://localhost:8080/"
        },
        "id": "CsXbKPuZo-Me",
        "outputId": "2799ec07-5a71-4a35-9238-f41ef79ba9bf"
      },
      "execution_count": null,
      "outputs": [
        {
          "output_type": "execute_result",
          "data": {
            "text/plain": [
              "<bound method Model.summary of <keras.src.engine.sequential.Sequential object at 0x79fec2965480>>"
            ]
          },
          "metadata": {},
          "execution_count": 20
        }
      ]
    },
    {
      "cell_type": "code",
      "source": [
        "history = model.fit(x_train,y_train , validation_data = (x_test,y_test), epochs = 100)"
      ],
      "metadata": {
        "colab": {
          "base_uri": "https://localhost:8080/"
        },
        "id": "dv0OkB_FpFVU",
        "outputId": "e0d140d0-ceb0-4ebd-9f4b-b50c747e67b8"
      },
      "execution_count": null,
      "outputs": [
        {
          "output_type": "stream",
          "name": "stdout",
          "text": [
            "Epoch 1/100\n",
            "14/14 [==============================] - 0s 30ms/step - loss: 0.0977 - accuracy: 0.9812 - val_loss: 0.1035 - val_accuracy: 0.9580\n",
            "Epoch 2/100\n",
            "14/14 [==============================] - 0s 18ms/step - loss: 0.0973 - accuracy: 0.9812 - val_loss: 0.1030 - val_accuracy: 0.9580\n",
            "Epoch 3/100\n",
            "14/14 [==============================] - 0s 12ms/step - loss: 0.0967 - accuracy: 0.9812 - val_loss: 0.1026 - val_accuracy: 0.9580\n",
            "Epoch 4/100\n",
            "14/14 [==============================] - 0s 12ms/step - loss: 0.0962 - accuracy: 0.9812 - val_loss: 0.1022 - val_accuracy: 0.9580\n",
            "Epoch 5/100\n",
            "14/14 [==============================] - 0s 10ms/step - loss: 0.0958 - accuracy: 0.9812 - val_loss: 0.1017 - val_accuracy: 0.9580\n",
            "Epoch 6/100\n",
            "14/14 [==============================] - 0s 14ms/step - loss: 0.0953 - accuracy: 0.9812 - val_loss: 0.1014 - val_accuracy: 0.9580\n",
            "Epoch 7/100\n",
            "14/14 [==============================] - 0s 7ms/step - loss: 0.0949 - accuracy: 0.9812 - val_loss: 0.1009 - val_accuracy: 0.9580\n",
            "Epoch 8/100\n",
            "14/14 [==============================] - 0s 8ms/step - loss: 0.0944 - accuracy: 0.9812 - val_loss: 0.1006 - val_accuracy: 0.9580\n",
            "Epoch 9/100\n",
            "14/14 [==============================] - 0s 7ms/step - loss: 0.0939 - accuracy: 0.9812 - val_loss: 0.1002 - val_accuracy: 0.9580\n",
            "Epoch 10/100\n",
            "14/14 [==============================] - 0s 9ms/step - loss: 0.0934 - accuracy: 0.9812 - val_loss: 0.0998 - val_accuracy: 0.9580\n",
            "Epoch 11/100\n",
            "14/14 [==============================] - 0s 11ms/step - loss: 0.0930 - accuracy: 0.9812 - val_loss: 0.0994 - val_accuracy: 0.9580\n",
            "Epoch 12/100\n",
            "14/14 [==============================] - 0s 10ms/step - loss: 0.0926 - accuracy: 0.9812 - val_loss: 0.0990 - val_accuracy: 0.9580\n",
            "Epoch 13/100\n",
            "14/14 [==============================] - 0s 7ms/step - loss: 0.0921 - accuracy: 0.9812 - val_loss: 0.0987 - val_accuracy: 0.9580\n",
            "Epoch 14/100\n",
            "14/14 [==============================] - 0s 9ms/step - loss: 0.0918 - accuracy: 0.9812 - val_loss: 0.0984 - val_accuracy: 0.9580\n",
            "Epoch 15/100\n",
            "14/14 [==============================] - 0s 8ms/step - loss: 0.0913 - accuracy: 0.9812 - val_loss: 0.0981 - val_accuracy: 0.9580\n",
            "Epoch 16/100\n",
            "14/14 [==============================] - 0s 8ms/step - loss: 0.0909 - accuracy: 0.9812 - val_loss: 0.0977 - val_accuracy: 0.9580\n",
            "Epoch 17/100\n",
            "14/14 [==============================] - 0s 6ms/step - loss: 0.0906 - accuracy: 0.9812 - val_loss: 0.0974 - val_accuracy: 0.9580\n",
            "Epoch 18/100\n",
            "14/14 [==============================] - 0s 5ms/step - loss: 0.0902 - accuracy: 0.9812 - val_loss: 0.0971 - val_accuracy: 0.9580\n",
            "Epoch 19/100\n",
            "14/14 [==============================] - 0s 5ms/step - loss: 0.0898 - accuracy: 0.9812 - val_loss: 0.0968 - val_accuracy: 0.9650\n",
            "Epoch 20/100\n",
            "14/14 [==============================] - 0s 6ms/step - loss: 0.0894 - accuracy: 0.9812 - val_loss: 0.0965 - val_accuracy: 0.9650\n",
            "Epoch 21/100\n",
            "14/14 [==============================] - 0s 7ms/step - loss: 0.0890 - accuracy: 0.9812 - val_loss: 0.0962 - val_accuracy: 0.9650\n",
            "Epoch 22/100\n",
            "14/14 [==============================] - 0s 6ms/step - loss: 0.0886 - accuracy: 0.9812 - val_loss: 0.0959 - val_accuracy: 0.9650\n",
            "Epoch 23/100\n",
            "14/14 [==============================] - 0s 4ms/step - loss: 0.0882 - accuracy: 0.9812 - val_loss: 0.0956 - val_accuracy: 0.9650\n",
            "Epoch 24/100\n",
            "14/14 [==============================] - 0s 4ms/step - loss: 0.0879 - accuracy: 0.9812 - val_loss: 0.0953 - val_accuracy: 0.9650\n",
            "Epoch 25/100\n",
            "14/14 [==============================] - 0s 6ms/step - loss: 0.0876 - accuracy: 0.9812 - val_loss: 0.0951 - val_accuracy: 0.9650\n",
            "Epoch 26/100\n",
            "14/14 [==============================] - 0s 5ms/step - loss: 0.0872 - accuracy: 0.9812 - val_loss: 0.0948 - val_accuracy: 0.9650\n",
            "Epoch 27/100\n",
            "14/14 [==============================] - 0s 5ms/step - loss: 0.0868 - accuracy: 0.9836 - val_loss: 0.0946 - val_accuracy: 0.9650\n",
            "Epoch 28/100\n",
            "14/14 [==============================] - 0s 6ms/step - loss: 0.0865 - accuracy: 0.9836 - val_loss: 0.0943 - val_accuracy: 0.9650\n",
            "Epoch 29/100\n",
            "14/14 [==============================] - 0s 5ms/step - loss: 0.0861 - accuracy: 0.9836 - val_loss: 0.0940 - val_accuracy: 0.9650\n",
            "Epoch 30/100\n",
            "14/14 [==============================] - 0s 4ms/step - loss: 0.0858 - accuracy: 0.9836 - val_loss: 0.0938 - val_accuracy: 0.9650\n",
            "Epoch 31/100\n",
            "14/14 [==============================] - 0s 6ms/step - loss: 0.0855 - accuracy: 0.9836 - val_loss: 0.0936 - val_accuracy: 0.9650\n",
            "Epoch 32/100\n",
            "14/14 [==============================] - 0s 5ms/step - loss: 0.0852 - accuracy: 0.9836 - val_loss: 0.0933 - val_accuracy: 0.9650\n",
            "Epoch 33/100\n",
            "14/14 [==============================] - 0s 5ms/step - loss: 0.0848 - accuracy: 0.9836 - val_loss: 0.0930 - val_accuracy: 0.9650\n",
            "Epoch 34/100\n",
            "14/14 [==============================] - 0s 5ms/step - loss: 0.0845 - accuracy: 0.9836 - val_loss: 0.0927 - val_accuracy: 0.9650\n",
            "Epoch 35/100\n",
            "14/14 [==============================] - 0s 4ms/step - loss: 0.0842 - accuracy: 0.9836 - val_loss: 0.0925 - val_accuracy: 0.9650\n",
            "Epoch 36/100\n",
            "14/14 [==============================] - 0s 4ms/step - loss: 0.0839 - accuracy: 0.9836 - val_loss: 0.0922 - val_accuracy: 0.9650\n",
            "Epoch 37/100\n",
            "14/14 [==============================] - 0s 6ms/step - loss: 0.0836 - accuracy: 0.9836 - val_loss: 0.0920 - val_accuracy: 0.9650\n",
            "Epoch 38/100\n",
            "14/14 [==============================] - 0s 5ms/step - loss: 0.0833 - accuracy: 0.9859 - val_loss: 0.0918 - val_accuracy: 0.9650\n",
            "Epoch 39/100\n",
            "14/14 [==============================] - 0s 5ms/step - loss: 0.0830 - accuracy: 0.9859 - val_loss: 0.0916 - val_accuracy: 0.9650\n",
            "Epoch 40/100\n",
            "14/14 [==============================] - 0s 6ms/step - loss: 0.0827 - accuracy: 0.9859 - val_loss: 0.0914 - val_accuracy: 0.9650\n",
            "Epoch 41/100\n",
            "14/14 [==============================] - 0s 5ms/step - loss: 0.0824 - accuracy: 0.9859 - val_loss: 0.0912 - val_accuracy: 0.9650\n",
            "Epoch 42/100\n",
            "14/14 [==============================] - 0s 5ms/step - loss: 0.0821 - accuracy: 0.9859 - val_loss: 0.0910 - val_accuracy: 0.9650\n",
            "Epoch 43/100\n",
            "14/14 [==============================] - 0s 6ms/step - loss: 0.0818 - accuracy: 0.9859 - val_loss: 0.0908 - val_accuracy: 0.9650\n",
            "Epoch 44/100\n",
            "14/14 [==============================] - 0s 6ms/step - loss: 0.0816 - accuracy: 0.9859 - val_loss: 0.0906 - val_accuracy: 0.9650\n",
            "Epoch 45/100\n",
            "14/14 [==============================] - 0s 5ms/step - loss: 0.0813 - accuracy: 0.9859 - val_loss: 0.0903 - val_accuracy: 0.9650\n",
            "Epoch 46/100\n",
            "14/14 [==============================] - 0s 5ms/step - loss: 0.0810 - accuracy: 0.9859 - val_loss: 0.0901 - val_accuracy: 0.9650\n",
            "Epoch 47/100\n",
            "14/14 [==============================] - 0s 6ms/step - loss: 0.0808 - accuracy: 0.9859 - val_loss: 0.0899 - val_accuracy: 0.9650\n",
            "Epoch 48/100\n",
            "14/14 [==============================] - 0s 6ms/step - loss: 0.0805 - accuracy: 0.9859 - val_loss: 0.0897 - val_accuracy: 0.9650\n",
            "Epoch 49/100\n",
            "14/14 [==============================] - 0s 7ms/step - loss: 0.0802 - accuracy: 0.9859 - val_loss: 0.0895 - val_accuracy: 0.9650\n",
            "Epoch 50/100\n",
            "14/14 [==============================] - 0s 5ms/step - loss: 0.0800 - accuracy: 0.9859 - val_loss: 0.0893 - val_accuracy: 0.9650\n",
            "Epoch 51/100\n",
            "14/14 [==============================] - 0s 6ms/step - loss: 0.0798 - accuracy: 0.9859 - val_loss: 0.0891 - val_accuracy: 0.9650\n",
            "Epoch 52/100\n",
            "14/14 [==============================] - 0s 4ms/step - loss: 0.0795 - accuracy: 0.9859 - val_loss: 0.0888 - val_accuracy: 0.9650\n",
            "Epoch 53/100\n",
            "14/14 [==============================] - 0s 5ms/step - loss: 0.0792 - accuracy: 0.9859 - val_loss: 0.0886 - val_accuracy: 0.9650\n",
            "Epoch 54/100\n",
            "14/14 [==============================] - 0s 7ms/step - loss: 0.0790 - accuracy: 0.9859 - val_loss: 0.0885 - val_accuracy: 0.9650\n",
            "Epoch 55/100\n",
            "14/14 [==============================] - 0s 5ms/step - loss: 0.0788 - accuracy: 0.9859 - val_loss: 0.0883 - val_accuracy: 0.9650\n",
            "Epoch 56/100\n",
            "14/14 [==============================] - 0s 5ms/step - loss: 0.0785 - accuracy: 0.9859 - val_loss: 0.0880 - val_accuracy: 0.9650\n",
            "Epoch 57/100\n",
            "14/14 [==============================] - 0s 5ms/step - loss: 0.0783 - accuracy: 0.9859 - val_loss: 0.0878 - val_accuracy: 0.9650\n",
            "Epoch 58/100\n",
            "14/14 [==============================] - 0s 7ms/step - loss: 0.0781 - accuracy: 0.9859 - val_loss: 0.0876 - val_accuracy: 0.9650\n",
            "Epoch 59/100\n",
            "14/14 [==============================] - 0s 7ms/step - loss: 0.0779 - accuracy: 0.9859 - val_loss: 0.0874 - val_accuracy: 0.9650\n",
            "Epoch 60/100\n",
            "14/14 [==============================] - 0s 6ms/step - loss: 0.0776 - accuracy: 0.9859 - val_loss: 0.0873 - val_accuracy: 0.9650\n",
            "Epoch 61/100\n",
            "14/14 [==============================] - 0s 6ms/step - loss: 0.0774 - accuracy: 0.9859 - val_loss: 0.0871 - val_accuracy: 0.9650\n",
            "Epoch 62/100\n",
            "14/14 [==============================] - 0s 6ms/step - loss: 0.0771 - accuracy: 0.9859 - val_loss: 0.0870 - val_accuracy: 0.9650\n",
            "Epoch 63/100\n",
            "14/14 [==============================] - 0s 6ms/step - loss: 0.0769 - accuracy: 0.9859 - val_loss: 0.0868 - val_accuracy: 0.9650\n",
            "Epoch 64/100\n",
            "14/14 [==============================] - 0s 6ms/step - loss: 0.0767 - accuracy: 0.9859 - val_loss: 0.0867 - val_accuracy: 0.9650\n",
            "Epoch 65/100\n",
            "14/14 [==============================] - 0s 5ms/step - loss: 0.0765 - accuracy: 0.9859 - val_loss: 0.0865 - val_accuracy: 0.9650\n",
            "Epoch 66/100\n",
            "14/14 [==============================] - 0s 5ms/step - loss: 0.0762 - accuracy: 0.9859 - val_loss: 0.0864 - val_accuracy: 0.9650\n",
            "Epoch 67/100\n",
            "14/14 [==============================] - 0s 6ms/step - loss: 0.0760 - accuracy: 0.9859 - val_loss: 0.0861 - val_accuracy: 0.9650\n",
            "Epoch 68/100\n",
            "14/14 [==============================] - 0s 5ms/step - loss: 0.0758 - accuracy: 0.9859 - val_loss: 0.0859 - val_accuracy: 0.9650\n",
            "Epoch 69/100\n",
            "14/14 [==============================] - 0s 6ms/step - loss: 0.0756 - accuracy: 0.9859 - val_loss: 0.0857 - val_accuracy: 0.9650\n",
            "Epoch 70/100\n",
            "14/14 [==============================] - 0s 6ms/step - loss: 0.0754 - accuracy: 0.9859 - val_loss: 0.0855 - val_accuracy: 0.9650\n",
            "Epoch 71/100\n",
            "14/14 [==============================] - 0s 6ms/step - loss: 0.0752 - accuracy: 0.9859 - val_loss: 0.0854 - val_accuracy: 0.9650\n",
            "Epoch 72/100\n",
            "14/14 [==============================] - 0s 6ms/step - loss: 0.0750 - accuracy: 0.9859 - val_loss: 0.0852 - val_accuracy: 0.9650\n",
            "Epoch 73/100\n",
            "14/14 [==============================] - 0s 6ms/step - loss: 0.0747 - accuracy: 0.9859 - val_loss: 0.0851 - val_accuracy: 0.9650\n",
            "Epoch 74/100\n",
            "14/14 [==============================] - 0s 6ms/step - loss: 0.0746 - accuracy: 0.9859 - val_loss: 0.0850 - val_accuracy: 0.9650\n",
            "Epoch 75/100\n",
            "14/14 [==============================] - 0s 5ms/step - loss: 0.0744 - accuracy: 0.9859 - val_loss: 0.0848 - val_accuracy: 0.9650\n",
            "Epoch 76/100\n",
            "14/14 [==============================] - 0s 5ms/step - loss: 0.0742 - accuracy: 0.9859 - val_loss: 0.0847 - val_accuracy: 0.9650\n",
            "Epoch 77/100\n",
            "14/14 [==============================] - 0s 4ms/step - loss: 0.0739 - accuracy: 0.9859 - val_loss: 0.0845 - val_accuracy: 0.9650\n",
            "Epoch 78/100\n",
            "14/14 [==============================] - 0s 6ms/step - loss: 0.0737 - accuracy: 0.9859 - val_loss: 0.0844 - val_accuracy: 0.9650\n",
            "Epoch 79/100\n",
            "14/14 [==============================] - 0s 5ms/step - loss: 0.0736 - accuracy: 0.9859 - val_loss: 0.0843 - val_accuracy: 0.9650\n",
            "Epoch 80/100\n",
            "14/14 [==============================] - 0s 6ms/step - loss: 0.0734 - accuracy: 0.9859 - val_loss: 0.0841 - val_accuracy: 0.9650\n",
            "Epoch 81/100\n",
            "14/14 [==============================] - 0s 5ms/step - loss: 0.0732 - accuracy: 0.9859 - val_loss: 0.0840 - val_accuracy: 0.9650\n",
            "Epoch 82/100\n",
            "14/14 [==============================] - 0s 5ms/step - loss: 0.0730 - accuracy: 0.9859 - val_loss: 0.0839 - val_accuracy: 0.9650\n",
            "Epoch 83/100\n",
            "14/14 [==============================] - 0s 7ms/step - loss: 0.0728 - accuracy: 0.9859 - val_loss: 0.0837 - val_accuracy: 0.9650\n",
            "Epoch 84/100\n",
            "14/14 [==============================] - 0s 5ms/step - loss: 0.0726 - accuracy: 0.9859 - val_loss: 0.0836 - val_accuracy: 0.9650\n",
            "Epoch 85/100\n",
            "14/14 [==============================] - 0s 5ms/step - loss: 0.0724 - accuracy: 0.9859 - val_loss: 0.0835 - val_accuracy: 0.9650\n",
            "Epoch 86/100\n",
            "14/14 [==============================] - 0s 6ms/step - loss: 0.0723 - accuracy: 0.9859 - val_loss: 0.0833 - val_accuracy: 0.9650\n",
            "Epoch 87/100\n",
            "14/14 [==============================] - 0s 5ms/step - loss: 0.0721 - accuracy: 0.9859 - val_loss: 0.0832 - val_accuracy: 0.9650\n",
            "Epoch 88/100\n",
            "14/14 [==============================] - 0s 5ms/step - loss: 0.0720 - accuracy: 0.9859 - val_loss: 0.0831 - val_accuracy: 0.9650\n",
            "Epoch 89/100\n",
            "14/14 [==============================] - 0s 6ms/step - loss: 0.0718 - accuracy: 0.9859 - val_loss: 0.0830 - val_accuracy: 0.9650\n",
            "Epoch 90/100\n",
            "14/14 [==============================] - 0s 21ms/step - loss: 0.0716 - accuracy: 0.9859 - val_loss: 0.0828 - val_accuracy: 0.9650\n",
            "Epoch 91/100\n",
            "14/14 [==============================] - 0s 12ms/step - loss: 0.0714 - accuracy: 0.9859 - val_loss: 0.0827 - val_accuracy: 0.9650\n",
            "Epoch 92/100\n",
            "14/14 [==============================] - 0s 5ms/step - loss: 0.0713 - accuracy: 0.9859 - val_loss: 0.0826 - val_accuracy: 0.9650\n",
            "Epoch 93/100\n",
            "14/14 [==============================] - 0s 6ms/step - loss: 0.0711 - accuracy: 0.9859 - val_loss: 0.0825 - val_accuracy: 0.9720\n",
            "Epoch 94/100\n",
            "14/14 [==============================] - 0s 5ms/step - loss: 0.0709 - accuracy: 0.9859 - val_loss: 0.0824 - val_accuracy: 0.9720\n",
            "Epoch 95/100\n",
            "14/14 [==============================] - 0s 5ms/step - loss: 0.0707 - accuracy: 0.9859 - val_loss: 0.0823 - val_accuracy: 0.9720\n",
            "Epoch 96/100\n",
            "14/14 [==============================] - 0s 4ms/step - loss: 0.0705 - accuracy: 0.9859 - val_loss: 0.0821 - val_accuracy: 0.9720\n",
            "Epoch 97/100\n",
            "14/14 [==============================] - 0s 6ms/step - loss: 0.0704 - accuracy: 0.9883 - val_loss: 0.0821 - val_accuracy: 0.9720\n",
            "Epoch 98/100\n",
            "14/14 [==============================] - 0s 21ms/step - loss: 0.0702 - accuracy: 0.9883 - val_loss: 0.0821 - val_accuracy: 0.9720\n",
            "Epoch 99/100\n",
            "14/14 [==============================] - 0s 13ms/step - loss: 0.0701 - accuracy: 0.9883 - val_loss: 0.0819 - val_accuracy: 0.9720\n",
            "Epoch 100/100\n",
            "14/14 [==============================] - 0s 6ms/step - loss: 0.0699 - accuracy: 0.9883 - val_loss: 0.0818 - val_accuracy: 0.9720\n"
          ]
        }
      ]
    },
    {
      "cell_type": "code",
      "source": [
        "x = model.evaluate(x_train,y_train)\n",
        "print('accuracy on TRAIN DATA = ', x[1])\n",
        "x = model.evaluate(x_test,y_test)\n",
        "print('accuracy on TEST DATA = ',x[1])"
      ],
      "metadata": {
        "colab": {
          "base_uri": "https://localhost:8080/"
        },
        "id": "dOeN_v2speiN",
        "outputId": "25c1c56e-f2a6-4a55-de90-ab0b4f567b67"
      },
      "execution_count": null,
      "outputs": [
        {
          "output_type": "stream",
          "name": "stdout",
          "text": [
            "14/14 [==============================] - 0s 3ms/step - loss: 0.0698 - accuracy: 0.9883\n",
            "accuracy on TRAIN DATA =  0.9882628917694092\n",
            "5/5 [==============================] - 0s 5ms/step - loss: 0.0818 - accuracy: 0.9720\n",
            "accuracy on TEST DATA =  0.9720279574394226\n"
          ]
        }
      ]
    },
    {
      "cell_type": "code",
      "source": [
        "import matplotlib.pyplot as plt\n",
        "plt.plot(history.history['loss'],label = \"loss\")\n",
        "plt.plot(history.history['val_loss'],label = \"validation loss\")\n",
        "plt.legend()"
      ],
      "metadata": {
        "colab": {
          "base_uri": "https://localhost:8080/",
          "height": 452
        },
        "id": "jtGreXBCsKYF",
        "outputId": "bd4572d5-76d6-461c-e27c-25ba043d9755"
      },
      "execution_count": null,
      "outputs": [
        {
          "output_type": "execute_result",
          "data": {
            "text/plain": [
              "<matplotlib.legend.Legend at 0x79febc3743a0>"
            ]
          },
          "metadata": {},
          "execution_count": 30
        },
        {
          "output_type": "display_data",
          "data": {
            "text/plain": [
              "<Figure size 640x480 with 1 Axes>"
            ],
            "image/png": "[encoded data removed]"
          },
          "metadata": {}
        }
      ]
    },
    {
      "cell_type": "code",
      "source": [
        "plt.plot(history.history['accuracy'],label = \"accuracy\")\n",
        "plt.plot(history.history['val_accuracy'],label = \"validation accuracy\")\n",
        "plt.legend()"
      ],
      "metadata": {
        "colab": {
          "base_uri": "https://localhost:8080/",
          "height": 448
        },
        "id": "adWIsUlftNki",
        "outputId": "87ad73f2-d173-44a2-a567-7c4e44126d64"
      },
      "execution_count": null,
      "outputs": [
        {
          "output_type": "execute_result",
          "data": {
            "text/plain": [
              "<matplotlib.legend.Legend at 0x79febcc9ccd0>"
            ]
          },
          "metadata": {},
          "execution_count": 32
        },
        {
          "output_type": "display_data",
          "data": {
            "text/plain": [
              "<Figure size 640x480 with 1 Axes>"
            ],
            "image/png": "[encoded data removed]"
          },
          "metadata": {}
        }
      ]
    }
  ]
}